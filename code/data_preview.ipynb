{
 "cells": [
  {
   "cell_type": "code",
   "execution_count": null,
   "metadata": {
    "colab": {
     "base_uri": "https://localhost:8080/"
    },
    "id": "Wihok8N-o5-N",
    "outputId": "aa92675f-f1d1-487a-c7e4-10610e2b42ef"
   },
   "outputs": [],
   "source": [
    "from google.colab import drive\n",
    "drive.mount('/content/drive')"
   ]
  },
  {
   "cell_type": "code",
   "execution_count": null,
   "metadata": {
    "id": "HdUrZnLrpFqN"
   },
   "outputs": [],
   "source": [
    "# import libraries\n",
    "import numpy as np\n",
    "import matplotlib.pyplot as plt\n",
    "import seaborn as sns\n",
    "import pandas as pd"
   ]
  },
  {
   "cell_type": "code",
   "execution_count": null,
   "metadata": {
    "colab": {
     "base_uri": "https://localhost:8080/",
     "height": 424
    },
    "id": "PBEXkA1Pp28D",
    "outputId": "9f80ec87-7275-4f97-b1df-194afe35591f"
   },
   "outputs": [],
   "source": [
    "data = pd.read_csv('/data/ED.csv')"
   ]
  },
  {
   "cell_type": "code",
   "execution_count": null,
   "metadata": {
    "colab": {
     "base_uri": "https://localhost:8080/"
    },
    "id": "0tuQd02Cz_7f",
    "outputId": "38f05c89-c529-4db2-c471-68ccfb108f14"
   },
   "outputs": [],
   "source": [
    "a = 0\n",
    "for i in range(len(data)):\n",
    "  if type(data['date_adm'][i]) == float:\n",
    "    data['date_adm'][i] = '31dec2018'\n",
    "    a += 1\n",
    "print(a) # how many '31dec2018' are added"
   ]
  },
  {
   "cell_type": "code",
   "execution_count": null,
   "metadata": {
    "id": "U1x0gMT0qArS"
   },
   "outputs": [],
   "source": [
    "index_first = []\n",
    "for i in range(len(data)):\n",
    "  if data['date_adm'][i] == '01jan2006':\n",
    "    index_first.append(i)"
   ]
  },
  {
   "cell_type": "code",
   "execution_count": null,
   "metadata": {
    "id": "il_wgTmvwxaV"
   },
   "outputs": [],
   "source": [
    "dfs = []  # create an empty list to store the new DataFrames\n",
    "\n",
    "for i in range(len(index_first)-1):\n",
    "  df = data.iloc[index_first[i]:index_first[i+1]]\n",
    "  dfs.append(df)\n",
    "\n",
    "dfs.append(data.iloc[index_first[24]:])\n",
    "\n",
    "for i in range(len(dfs)):\n",
    "  dfs[i].reset_index(drop=True, inplace=True)"
   ]
  },
  {
   "cell_type": "code",
   "execution_count": null,
   "metadata": {
    "id": "1qQTNqXWzBZ1"
   },
   "outputs": [],
   "source": [
    "for i in range(len(dfs)):\n",
    "    new_col_name = dfs[i]['SBoDcate'].iloc[0]  # get the first value of the 'SBoDcate' column\n",
    "    dfs[i] = dfs[i].rename(columns={'count': new_col_name})"
   ]
  },
  {
   "cell_type": "code",
   "execution_count": null,
   "metadata": {
    "id": "iSdUfRQa-t1k"
   },
   "outputs": [],
   "source": [
    "for i in range(len(dfs)):\n",
    "  dfs[i] = dfs[i].drop('SBoDcate', axis=1)"
   ]
  },
  {
   "cell_type": "markdown",
   "metadata": {
    "id": "hgFaurIg20i-"
   },
   "source": [
    "#### as there were a maximum of 4748 records per condition. Infectious and Parasitic Diseases was used as the benchmark for merge."
   ]
  },
  {
   "cell_type": "code",
   "execution_count": null,
   "metadata": {
    "id": "XXzhujqBAzA8"
   },
   "outputs": [],
   "source": [
    "merged = pd.merge(dfs[1], dfs[0], on='date_adm', how='left')"
   ]
  },
  {
   "cell_type": "code",
   "execution_count": null,
   "metadata": {
    "id": "Hi0S5H94Ez15"
   },
   "outputs": [],
   "source": [
    "for i in range(2, len(dfs)):\n",
    "  merged = pd.merge(merged, dfs[i], on='date_adm', how='left')"
   ]
  },
  {
   "cell_type": "code",
   "execution_count": null,
   "metadata": {
    "colab": {
     "base_uri": "https://localhost:8080/",
     "height": 572
    },
    "id": "AxtsUx484Tlc",
    "outputId": "6ef006a4-3bd6-43f8-eb23-3b471b69f0a5"
   },
   "outputs": [],
   "source": [
    "merged = merged.fillna(0) # replace all the nan values with 0"
   ]
  },
  {
   "cell_type": "markdown",
   "metadata": {
    "id": "D9TQMeXUi0JU"
   },
   "source": [
    "convert to epi week\n",
    "2006"
   ]
  },
  {
   "cell_type": "code",
   "execution_count": null,
   "metadata": {
    "colab": {
     "base_uri": "https://localhost:8080/"
    },
    "id": "LalpeynlspA1",
    "outputId": "baa1ba4b-65ec-4e6f-c674-e6517f151410"
   },
   "outputs": [],
   "source": [
    "for i in range(len(merged)):\n",
    "  if merged['date_adm'][i] == '01jan2006' or merged['date_adm'][i] == '30dec2006':\n",
    "    print(i)"
   ]
  },
  {
   "cell_type": "code",
   "execution_count": null,
   "metadata": {
    "id": "LAYbnbk6lxei"
   },
   "outputs": [],
   "source": [
    "# epi weeks:52\n",
    "group_num = 1\n",
    "for i in range(0, 364, 7):\n",
    "    merged.loc[i:i+6, 'date_adm'] = '2006_{:02d}'.format(group_num)\n",
    "    group_num += 1"
   ]
  },
  {
   "cell_type": "code",
   "execution_count": null,
   "metadata": {
    "colab": {
     "base_uri": "https://localhost:8080/",
     "height": 35
    },
    "id": "KdIV9IP5n-Cc",
    "outputId": "5f663525-a9f0-45e4-ef5f-a97dc415e338"
   },
   "outputs": [],
   "source": [
    "merged['date_adm'][364]"
   ]
  },
  {
   "cell_type": "markdown",
   "metadata": {
    "id": "Jqc1XwAAxF-T"
   },
   "source": [
    "2007"
   ]
  },
  {
   "cell_type": "code",
   "execution_count": null,
   "metadata": {
    "colab": {
     "base_uri": "https://localhost:8080/"
    },
    "id": "ctxl8Zf0voR3",
    "outputId": "ec8cbf97-3af3-469d-e831-a0ac06cb9412"
   },
   "outputs": [],
   "source": [
    "for i in range(len(merged)):\n",
    "  if merged['date_adm'][i] == '31dec2006' or merged['date_adm'][i] == '29dec2007':\n",
    "    print(i)"
   ]
  },
  {
   "cell_type": "code",
   "execution_count": null,
   "metadata": {
    "id": "YManF2ggx0Le"
   },
   "outputs": [],
   "source": [
    "group_num = 1\n",
    "for i in range(364, 728, 7):\n",
    "    merged.loc[i:i+6, 'date_adm'] = '2007_{:02d}'.format(group_num)\n",
    "    group_num += 1"
   ]
  },
  {
   "cell_type": "markdown",
   "metadata": {
    "id": "Jg2JHx2XyYdb"
   },
   "source": [
    "2008"
   ]
  },
  {
   "cell_type": "code",
   "execution_count": null,
   "metadata": {
    "colab": {
     "base_uri": "https://localhost:8080/"
    },
    "id": "a5imCeHGyYGs",
    "outputId": "65ef57f5-60bf-4140-e809-d9d7b82551fd"
   },
   "outputs": [],
   "source": [
    "for i in range(len(merged)):\n",
    "  if merged['date_adm'][i] == '30dec2007' or merged['date_adm'][i] == '03jan2009':\n",
    "    print(i)"
   ]
  },
  {
   "cell_type": "code",
   "execution_count": null,
   "metadata": {
    "id": "wQdgBwVMyI7L"
   },
   "outputs": [],
   "source": [
    "group_num = 1\n",
    "for i in range(728, 1099, 7):\n",
    "    merged.loc[i:i+6, 'date_adm'] = '2008_{:02d}'.format(group_num)\n",
    "    group_num += 1"
   ]
  },
  {
   "cell_type": "markdown",
   "metadata": {
    "id": "aDs93Fkf0DJ8"
   },
   "source": [
    "2009"
   ]
  },
  {
   "cell_type": "code",
   "execution_count": null,
   "metadata": {
    "colab": {
     "base_uri": "https://localhost:8080/"
    },
    "id": "tXibbqNXzvSQ",
    "outputId": "994bdb8f-38a1-4c7a-c3e9-e8e2cde19ae1"
   },
   "outputs": [],
   "source": [
    "for i in range(len(merged)):\n",
    "  if merged['date_adm'][i] == '04jan2009' or merged['date_adm'][i] == '02jan2010':\n",
    "    print(i)"
   ]
  },
  {
   "cell_type": "code",
   "execution_count": null,
   "metadata": {
    "id": "rgPZzLpK0eah"
   },
   "outputs": [],
   "source": [
    "group_num = 1\n",
    "for i in range(1099, 1463, 7):\n",
    "    merged.loc[i:i+6, 'date_adm'] = '2009_{:02d}'.format(group_num)\n",
    "    group_num += 1"
   ]
  },
  {
   "cell_type": "markdown",
   "metadata": {
    "id": "ga5DiZ4K01JC"
   },
   "source": [
    "2010"
   ]
  },
  {
   "cell_type": "code",
   "execution_count": null,
   "metadata": {
    "colab": {
     "base_uri": "https://localhost:8080/"
    },
    "id": "eRkPsJPm0yIk",
    "outputId": "2b5bb453-7e1f-48b7-bbc0-b556338c7677"
   },
   "outputs": [],
   "source": [
    "for i in range(len(merged)):\n",
    "  if merged['date_adm'][i] == '03jan2010' or merged['date_adm'][i] == '01jan2011':\n",
    "    print(i)"
   ]
  },
  {
   "cell_type": "code",
   "execution_count": null,
   "metadata": {
    "id": "by5vjUJG1Ah3"
   },
   "outputs": [],
   "source": [
    "group_num = 1\n",
    "for i in range(1463, 1827, 7):\n",
    "    merged.loc[i:i+6, 'date_adm'] = '2010_{:02d}'.format(group_num)\n",
    "    group_num += 1"
   ]
  },
  {
   "cell_type": "markdown",
   "metadata": {
    "id": "T0cmvX6q1jhC"
   },
   "source": [
    "2011"
   ]
  },
  {
   "cell_type": "code",
   "execution_count": null,
   "metadata": {
    "colab": {
     "base_uri": "https://localhost:8080/"
    },
    "id": "Wdk38GUK1RE7",
    "outputId": "db065eb8-d9b5-4443-8a5f-85ca95ec1f93"
   },
   "outputs": [],
   "source": [
    "for i in range(len(merged)):\n",
    "  if merged['date_adm'][i] == '02jan2011' or merged['date_adm'][i] == '31dec2011':\n",
    "    print(i)"
   ]
  },
  {
   "cell_type": "code",
   "execution_count": null,
   "metadata": {
    "id": "534u-sZE1mVy"
   },
   "outputs": [],
   "source": [
    "group_num = 1\n",
    "for i in range(1827, 2191, 7):\n",
    "    merged.loc[i:i+6, 'date_adm'] = '2011_{:02d}'.format(group_num)\n",
    "    group_num += 1"
   ]
  },
  {
   "cell_type": "markdown",
   "metadata": {
    "id": "J-t9dxgs2OhD"
   },
   "source": [
    "2012"
   ]
  },
  {
   "cell_type": "code",
   "execution_count": null,
   "metadata": {
    "colab": {
     "base_uri": "https://localhost:8080/"
    },
    "id": "DY8kvmu02GlQ",
    "outputId": "c4218fd0-455f-4b57-8af2-745728ed0761"
   },
   "outputs": [],
   "source": [
    "for i in range(len(merged)):\n",
    "  if merged['date_adm'][i] == '01jan2012' or merged['date_adm'][i] == '29dec2012':\n",
    "    print(i)"
   ]
  },
  {
   "cell_type": "code",
   "execution_count": null,
   "metadata": {
    "id": "hLc0QwWb2jB8"
   },
   "outputs": [],
   "source": [
    "group_num = 1\n",
    "for i in range(2191, 2555, 7):\n",
    "    merged.loc[i:i+6, 'date_adm'] = '2012_{:02d}'.format(group_num)\n",
    "    group_num += 1"
   ]
  },
  {
   "cell_type": "markdown",
   "metadata": {
    "id": "rGfipBdb2s38"
   },
   "source": [
    "2013"
   ]
  },
  {
   "cell_type": "code",
   "execution_count": null,
   "metadata": {
    "colab": {
     "base_uri": "https://localhost:8080/"
    },
    "id": "OID33XMH2rsc",
    "outputId": "7addcfd1-f41b-4344-c726-b347d70c567f"
   },
   "outputs": [],
   "source": [
    "for i in range(len(merged)):\n",
    "  if merged['date_adm'][i] == '30dec2012' or merged['date_adm'][i] == '28dec2013':\n",
    "    print(i)"
   ]
  },
  {
   "cell_type": "code",
   "execution_count": null,
   "metadata": {
    "id": "-vZXAnjd4UKP"
   },
   "outputs": [],
   "source": [
    "group_num = 1\n",
    "for i in range(2555, 2919, 7):\n",
    "    merged.loc[i:i+6, 'date_adm'] = '2013_{:02d}'.format(group_num)\n",
    "    group_num += 1"
   ]
  },
  {
   "cell_type": "markdown",
   "metadata": {
    "id": "50h1aBba5m4m"
   },
   "source": [
    "2014"
   ]
  },
  {
   "cell_type": "code",
   "execution_count": null,
   "metadata": {
    "colab": {
     "base_uri": "https://localhost:8080/"
    },
    "id": "V3V2CX1t4fBR",
    "outputId": "beeb5430-defb-4b4f-fe67-ae1d839fd28b"
   },
   "outputs": [],
   "source": [
    "for i in range(len(merged)):\n",
    "  if merged['date_adm'][i] == '29dec2013' or merged['date_adm'][i] == '03jan2015':\n",
    "    print(i)"
   ]
  },
  {
   "cell_type": "code",
   "execution_count": null,
   "metadata": {
    "id": "L6J5-MIS6jqJ"
   },
   "outputs": [],
   "source": [
    "group_num = 1\n",
    "for i in range(2919, 3290, 7):\n",
    "    merged.loc[i:i+6, 'date_adm'] = '2014_{:02d}'.format(group_num)\n",
    "    group_num += 1"
   ]
  },
  {
   "cell_type": "markdown",
   "metadata": {
    "id": "V-MGsZOPKWy2"
   },
   "source": [
    "2015"
   ]
  },
  {
   "cell_type": "code",
   "execution_count": null,
   "metadata": {
    "colab": {
     "base_uri": "https://localhost:8080/"
    },
    "id": "ee8f47WCKWVW",
    "outputId": "c732b391-ba24-48d9-8de7-7f2bd82ae146"
   },
   "outputs": [],
   "source": [
    "for i in range(len(merged)):\n",
    "  if merged['date_adm'][i] == '04jan2015' or merged['date_adm'][i] == '02jan2016':\n",
    "    print(i)"
   ]
  },
  {
   "cell_type": "code",
   "execution_count": null,
   "metadata": {
    "id": "-Ta4CCQaKwEU"
   },
   "outputs": [],
   "source": [
    "group_num = 1\n",
    "for i in range(3290, 3654, 7):\n",
    "    merged.loc[i:i+6, 'date_adm'] = '2015_{:02d}'.format(group_num)\n",
    "    group_num += 1"
   ]
  },
  {
   "cell_type": "markdown",
   "metadata": {
    "id": "_Q8Bh3yMK8BG"
   },
   "source": [
    "2016"
   ]
  },
  {
   "cell_type": "code",
   "execution_count": null,
   "metadata": {
    "colab": {
     "base_uri": "https://localhost:8080/"
    },
    "id": "B585pX9mK7WS",
    "outputId": "fd105972-40e4-4b32-8add-e68ca8975552"
   },
   "outputs": [],
   "source": [
    "for i in range(len(merged)):\n",
    "  if merged['date_adm'][i] == '03jan2016' or merged['date_adm'][i] == '31dec2016':\n",
    "    print(i)"
   ]
  },
  {
   "cell_type": "code",
   "execution_count": null,
   "metadata": {
    "id": "a18RrtBELb5D"
   },
   "outputs": [],
   "source": [
    "group_num = 1\n",
    "for i in range(3654, 4018, 7):\n",
    "    merged.loc[i:i+6, 'date_adm'] = '2016_{:02d}'.format(group_num)\n",
    "    group_num += 1"
   ]
  },
  {
   "cell_type": "markdown",
   "metadata": {
    "id": "kOEIVSFeLp0q"
   },
   "source": [
    "2017"
   ]
  },
  {
   "cell_type": "code",
   "execution_count": null,
   "metadata": {
    "colab": {
     "base_uri": "https://localhost:8080/"
    },
    "id": "kVByWWssLpTx",
    "outputId": "ad5f6d6d-df64-4c7d-c541-60b1064ada91"
   },
   "outputs": [],
   "source": [
    "for i in range(len(merged)):\n",
    "  if merged['date_adm'][i] == '01jan2017' or merged['date_adm'][i] == '30dec2017':\n",
    "    print(i)"
   ]
  },
  {
   "cell_type": "code",
   "execution_count": null,
   "metadata": {
    "id": "ER3r6q5ILskg"
   },
   "outputs": [],
   "source": [
    "group_num = 1\n",
    "for i in range(4018, 4382, 7):\n",
    "    merged.loc[i:i+6, 'date_adm'] = '2017_{:02d}'.format(group_num)\n",
    "    group_num += 1"
   ]
  },
  {
   "cell_type": "markdown",
   "metadata": {
    "id": "Ov6mWis6Mm-g"
   },
   "source": [
    "2018"
   ]
  },
  {
   "cell_type": "code",
   "execution_count": null,
   "metadata": {
    "colab": {
     "base_uri": "https://localhost:8080/"
    },
    "id": "xayIC1uaMmrz",
    "outputId": "c7ff7f65-d837-4e6c-c20c-8fd7b1e2ace4"
   },
   "outputs": [],
   "source": [
    "for i in range(len(merged)):\n",
    "  if merged['date_adm'][i] == '31dec2017' or merged['date_adm'][i] == '29dec2018':\n",
    "    print(i)"
   ]
  },
  {
   "cell_type": "code",
   "execution_count": null,
   "metadata": {
    "id": "XtZaFF_zM-RV"
   },
   "outputs": [],
   "source": [
    "group_num = 1\n",
    "for i in range(4382, 4746, 7):\n",
    "    merged.loc[i:i+6, 'date_adm'] = '2018_{:02d}'.format(group_num)\n",
    "    group_num += 1"
   ]
  },
  {
   "cell_type": "code",
   "execution_count": null,
   "metadata": {
    "colab": {
     "base_uri": "https://localhost:8080/",
     "height": 572
    },
    "id": "nTcCf-LU7zMQ",
    "outputId": "66fe7347-8186-4ed5-c0b8-4f633dce2f10"
   },
   "outputs": [],
   "source": [
    "merged = merged.rename(columns={'date_adm': 'Epic_week'})"
   ]
  },
  {
   "cell_type": "code",
   "execution_count": null,
   "metadata": {
    "colab": {
     "base_uri": "https://localhost:8080/",
     "height": 572
    },
    "id": "N3aYZWYKNmYB",
    "outputId": "b747b2bf-b6d6-4f42-dd2b-7c700afcac1a"
   },
   "outputs": [],
   "source": [
    "merged = merged.iloc[0:4746]"
   ]
  },
  {
   "cell_type": "code",
   "execution_count": null,
   "metadata": {
    "id": "L0eSXzv2_V2o"
   },
   "outputs": [],
   "source": [
    "# # By daily\n",
    "# merged.to_csv('merged_daily.csv', index=False)"
   ]
  },
  {
   "cell_type": "code",
   "execution_count": null,
   "metadata": {
    "colab": {
     "base_uri": "https://localhost:8080/",
     "height": 572
    },
    "id": "ie4yz7Vp_MRZ",
    "outputId": "c1ea51fc-f1a8-4500-a451-38e0845bb5ad"
   },
   "outputs": [],
   "source": [
    "df = merged.groupby(by='Epic_week', as_index=False).sum()"
   ]
  },
  {
   "cell_type": "code",
   "execution_count": null,
   "metadata": {
    "colab": {
     "base_uri": "https://localhost:8080/"
    },
    "id": "7U971FF8p9eE",
    "outputId": "79a43144-0cab-46b1-a057-d8c54be1fa3c"
   },
   "outputs": [],
   "source": [
    "for i in range(len(df)):\n",
    "  if df['Epic_week'][i] == '2009_01':\n",
    "    print(i)"
   ]
  },
  {
   "cell_type": "code",
   "execution_count": null,
   "metadata": {
    "colab": {
     "base_uri": "https://localhost:8080/",
     "height": 572
    },
    "id": "Hjqyzg_CqyO2",
    "outputId": "be887fc2-e744-4efd-8520-94b977d025af"
   },
   "outputs": [],
   "source": [
    "df = df.iloc[157:]\n",
    "df.reset_index(drop=True, inplace=True)"
   ]
  },
  {
   "cell_type": "markdown",
   "metadata": {
    "id": "Od_CbEwMLMgQ"
   },
   "source": [
    "### Processing of weather_day.csv"
   ]
  },
  {
   "cell_type": "code",
   "execution_count": null,
   "metadata": {
    "colab": {
     "base_uri": "https://localhost:8080/",
     "height": 468
    },
    "id": "48pAUfHDHRGp",
    "outputId": "bc9bbdbd-2711-4017-dc7d-8619621f531e"
   },
   "outputs": [],
   "source": [
    "weather = pd.read_csv('weather_half.csv')"
   ]
  },
  {
   "cell_type": "code",
   "execution_count": null,
   "metadata": {
    "id": "RzOQWjAATo9f"
   },
   "outputs": [],
   "source": [
    "group_num = 1\n",
    "for i in range(0, 364, 7):\n",
    "    weather.loc[i:i+6, 'Date'] = '2009_{:02d}'.format(group_num)\n",
    "    group_num += 1"
   ]
  },
  {
   "cell_type": "code",
   "execution_count": null,
   "metadata": {
    "id": "PsFrBYeVT0Bv"
   },
   "outputs": [],
   "source": [
    "group_num = 1\n",
    "for i in range(364, 728, 7):\n",
    "    weather.loc[i:i+6, 'Date'] = '2010_{:02d}'.format(group_num)\n",
    "    group_num += 1"
   ]
  },
  {
   "cell_type": "code",
   "execution_count": null,
   "metadata": {
    "id": "oDK_ThmyUL36"
   },
   "outputs": [],
   "source": [
    "group_num = 1\n",
    "for i in range(728, 1092, 7):\n",
    "    weather.loc[i:i+6, 'Date'] = '2011_{:02d}'.format(group_num)\n",
    "    group_num += 1"
   ]
  },
  {
   "cell_type": "code",
   "execution_count": null,
   "metadata": {
    "id": "U75sXv3EUTyg"
   },
   "outputs": [],
   "source": [
    "group_num = 1\n",
    "for i in range(1092, 1456, 7):\n",
    "    weather.loc[i:i+6, 'Date'] = '2012_{:02d}'.format(group_num)\n",
    "    group_num += 1"
   ]
  },
  {
   "cell_type": "code",
   "execution_count": null,
   "metadata": {
    "id": "MsXgF-kyUcbo"
   },
   "outputs": [],
   "source": [
    "group_num = 1\n",
    "for i in range(1456, 1820, 7):\n",
    "    weather.loc[i:i+6, 'Date'] = '2013_{:02d}'.format(group_num)\n",
    "    group_num += 1"
   ]
  },
  {
   "cell_type": "code",
   "execution_count": null,
   "metadata": {
    "id": "qDgaif3eUnUi"
   },
   "outputs": [],
   "source": [
    "group_num = 1\n",
    "for i in range(1820, 2191, 7):\n",
    "    weather.loc[i:i+6, 'Date'] = '2014_{:02d}'.format(group_num)\n",
    "    group_num += 1"
   ]
  },
  {
   "cell_type": "code",
   "execution_count": null,
   "metadata": {
    "id": "a1EVFOTZUum4"
   },
   "outputs": [],
   "source": [
    "group_num = 1\n",
    "for i in range(2191, 2555, 7):\n",
    "    weather.loc[i:i+6, 'Date'] = '2015_{:02d}'.format(group_num)\n",
    "    group_num += 1"
   ]
  },
  {
   "cell_type": "code",
   "execution_count": null,
   "metadata": {
    "id": "SPXXYZiGU6qQ"
   },
   "outputs": [],
   "source": [
    "group_num = 1\n",
    "for i in range(2555, 2919, 7):\n",
    "    weather.loc[i:i+6, 'Date'] = '2016_{:02d}'.format(group_num)\n",
    "    group_num += 1"
   ]
  },
  {
   "cell_type": "code",
   "execution_count": null,
   "metadata": {
    "id": "wZM1OLdKVG-y"
   },
   "outputs": [],
   "source": [
    "group_num = 1\n",
    "for i in range(2919, 3283, 7):\n",
    "    weather.loc[i:i+6, 'Date'] = '2017_{:02d}'.format(group_num)\n",
    "    group_num += 1"
   ]
  },
  {
   "cell_type": "code",
   "execution_count": null,
   "metadata": {
    "id": "Aq0nv8k5VPTs"
   },
   "outputs": [],
   "source": [
    "group_num = 1\n",
    "for i in range(3283, len(weather), 7):\n",
    "    weather.loc[i:i+6, 'Date'] = '2018_{:02d}'.format(group_num)\n",
    "    group_num += 1"
   ]
  },
  {
   "cell_type": "code",
   "execution_count": null,
   "metadata": {
    "colab": {
     "base_uri": "https://localhost:8080/",
     "height": 468
    },
    "id": "ovNmthknaEfB",
    "outputId": "8c7c69c7-a97f-4560-f0d5-f944e999230f"
   },
   "outputs": [],
   "source": [
    "weather = weather.groupby(by='Date', as_index=False).mean()\n",
    "weather = weather.rename(columns={'Date': 'Epic_week'})"
   ]
  },
  {
   "cell_type": "code",
   "execution_count": null,
   "metadata": {
    "id": "fW7JpPvXf9xy"
   },
   "outputs": [],
   "source": [
    "variables = pd.merge(df, weather, on='Epic_week', how='inner')"
   ]
  },
  {
   "cell_type": "code",
   "execution_count": null,
   "metadata": {
    "id": "3fcGmQ5uhOQN"
   },
   "outputs": [],
   "source": [
    "variables.to_csv('variables.csv', index=False)"
   ]
  },
  {
   "cell_type": "markdown",
   "metadata": {
    "id": "soCArLPu7eVo"
   },
   "source": [
    "visualization"
   ]
  },
  {
   "cell_type": "code",
   "execution_count": null,
   "metadata": {
    "colab": {
     "base_uri": "https://localhost:8080/",
     "height": 496
    },
    "id": "3FwLT1Tup8Nv",
    "outputId": "d99d19fe-7e73-4d76-ee70-1a117a1f6881"
   },
   "outputs": [],
   "source": [
    "variables = pd.read_csv('variables.csv')\n",
    "variables"
   ]
  },
  {
   "cell_type": "code",
   "execution_count": null,
   "metadata": {
    "colab": {
     "base_uri": "https://localhost:8080/",
     "height": 1000
    },
    "id": "dTpdWlKUyN2X",
    "outputId": "067822e0-bb5f-4aa7-c9eb-3f4c74630da0"
   },
   "outputs": [],
   "source": [
    "import pandas as pd\n",
    "import numpy as np\n",
    "import matplotlib.pyplot as plt\n",
    "\n",
    "def number_to_right_subscript(number):\n",
    "    subscript_digits = [chr(0x2080 + int(digit)) for digit in str(number)]\n",
    "    return ''.join(subscript_digits)\n",
    "\n",
    "subscript1 = number_to_right_subscript(2)\n",
    "subscript2 = number_to_right_subscript(5)\n",
    "\n",
    "draw = variables[['Infectious and Parasitic Diseases', 'Respiratory Infection', 'Daily_Rainfall_Total_mm', 'Mean_Temperature_C', 'Mean_Wind_Speed_kmh', 'RH', 'pm25', 'so2']]\n",
    "values = draw.values # Convert the DataFrame to a NumPy array\n",
    "groups = [0, 1, 2, 3, 4, 5, 6, 7] # Column indices\n",
    "titles = ['A', 'B', 'C', 'D', 'E', 'F', 'G', 'H'] # Titles for each subplot\n",
    "y_label = ['IPDs ED Cases', 'RIs ED Cases', 'Total Precipitation', 'Mean Temperature', 'Mean Wind Speed', 'Relative Humidity', f'PM{subscript1}.{subscript2}', f'SO{subscript1}']\n",
    "i = 1\n",
    "\n",
    "# Create tick locations and labels\n",
    "tick_interval = 52\n",
    "tick_locations = np.arange(0, len(values), tick_interval)\n",
    "# print(tick_locations)\n",
    "tick_locations = np.array([0, 52, 104, 156, 208, 260, 313, 365, 417, 469, 521])\n",
    "tick_label_locations = tick_locations[:-1] + tick_interval / 2\n",
    "tick_labels = [f'{year:02d}' for year in range(9, 19)]\n",
    "\n",
    "plt.figure(figsize=(15, 12)) # Create a new figure with a specified size\n",
    "\n",
    "for group, title in zip(groups, titles):\n",
    "    plt.subplot(4, 2, i) # Create a subplot for each column in a 4x2 grid\n",
    "    plt.plot(values[:, group], linewidth=1) # Plot the values from the corresponding column\n",
    "    plt.ylabel(y_label[group], fontsize = 18) # Set the ylabel of each subplot to the name of the corresponding column in `draw`\n",
    "    plt.title(title, fontsize = 16) \n",
    "\n",
    "    # Set the x-axis ticks and labels\n",
    "    plt.xticks(tick_locations)\n",
    "    plt.gca().set_xticklabels([])\n",
    "    plt.gca().set_xticks(tick_label_locations, minor=True)\n",
    "    plt.gca().set_xticklabels(tick_labels, minor=True, fontsize=18)\n",
    "    plt.gca().tick_params(axis='x', which='minor', length=0)\n",
    "    plt.yticks(fontsize=18)\n",
    "\n",
    "    i += 1\n",
    "\n",
    "plt.subplots_adjust(hspace=0.3) # Adjust the vertical space between subplots\n",
    "plt.savefig('data_preview.tif', format='tif', dpi=400)\n",
    "plt.show() # Display the figure\n"
   ]
  },
  {
   "cell_type": "code",
   "execution_count": null,
   "metadata": {
    "id": "9nsS4J_2ZN0C"
   },
   "outputs": [],
   "source": [
    "# plt.savefig('data_preview.svg', format='svg')"
   ]
  }
 ],
 "metadata": {
  "colab": {
   "machine_shape": "hm",
   "provenance": []
  },
  "kernelspec": {
   "display_name": "Python 3 (ipykernel)",
   "language": "python",
   "name": "python3"
  },
  "language_info": {
   "codemirror_mode": {
    "name": "ipython",
    "version": 3
   },
   "file_extension": ".py",
   "mimetype": "text/x-python",
   "name": "python",
   "nbconvert_exporter": "python",
   "pygments_lexer": "ipython3",
   "version": "3.11.4"
  }
 },
 "nbformat": 4,
 "nbformat_minor": 1
}
