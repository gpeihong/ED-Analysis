{
 "cells": [
  {
   "cell_type": "code",
   "execution_count": null,
   "metadata": {
    "id": "WAhZ4GSA0Czi"
   },
   "outputs": [],
   "source": [
    "import numpy as np\n",
    "import matplotlib.pyplot as plt\n",
    "import matplotlib.colors as mcolors\n",
    "import seaborn as sns\n",
    "import pandas as pd\n",
    "from sklearn.metrics import mean_squared_error\n",
    "from sklearn.metrics import mean_absolute_error\n",
    "from sklearn.metrics import r2_score\n",
    "from scipy import stats"
   ]
  },
  {
   "cell_type": "code",
   "execution_count": null,
   "metadata": {
    "id": "8DJ7fX6A0ezO"
   },
   "outputs": [],
   "source": [
    "def mean_absolute_percentage_error(y_true, y_pred):\n",
    "    y_true, y_pred = np.array(y_true), np.array(y_pred)\n",
    "    return np.mean(np.abs((y_true - y_pred) / y_true)) * 100"
   ]
  },
  {
   "cell_type": "code",
   "execution_count": null,
   "metadata": {
    "id": "K-D9zlmhuZA-"
   },
   "outputs": [],
   "source": [
    "def mean_absolute_scaled_error(y_true, y_pred, n_steps):\n",
    "    y_true = np.array(y_true)\n",
    "    y_pred = np.array(y_pred)\n",
    "    n = len(y_true)\n",
    "    \n",
    "    abs_err = np.abs(y_true[n_steps:] - y_pred[n_steps:])\n",
    "\n",
    "    mae = np.mean(abs_err)\n",
    "\n",
    "    naive_forecast = y_true[:-n_steps]  # naive forecast shifts the series by h step\n",
    "    mae_naive = np.mean(np.abs(y_true[n_steps:] - naive_forecast))\n",
    "\n",
    "    mase = mae / mae_naive\n",
    "\n",
    "    return mase"
   ]
  },
  {
   "cell_type": "markdown",
   "metadata": {
    "id": "vrkDN_bh0uXd"
   },
   "source": [
    "##### step: 1"
   ]
  },
  {
   "cell_type": "code",
   "execution_count": null,
   "metadata": {
    "id": "S7bz0rfs0tet"
   },
   "outputs": [],
   "source": [
    "true1 = \n",
    "\n",
    "rf1 = \n",
    "\n",
    "gbm1 = \n",
    "\n",
    "ar1 = \n",
    "\n",
    "arev_lasso1 = \n",
    "\n",
    "lstm1 = \n",
    "\n",
    "naive1 = "
   ]
  },
  {
   "cell_type": "code",
   "execution_count": null,
   "metadata": {
    "id": "txvy05qh-nGj"
   },
   "outputs": [],
   "source": [
    "comb1 = []\n",
    "for i in range(len(rf1)):\n",
    "    avg = (rf1[i] + gbm1[i] + ar1[i] + arev_lasso1[i] + lstm1[i] + naive1[i]) / 6\n",
    "    comb1.append(avg)"
   ]
  },
  {
   "cell_type": "code",
   "execution_count": null,
   "metadata": {
    "colab": {
     "base_uri": "https://localhost:8080/"
    },
    "id": "XbAEcpbq-4Ue",
    "outputId": "136a58f5-f4df-4d48-d103-f1ea6b5cfc72"
   },
   "outputs": [],
   "source": [
    "mse1 = mean_squared_error(true1, comb1)\n",
    "print('Mean Squared Error for {} step: {}'.format(1 ,mse1))\n",
    "mae1 = mean_absolute_error(true1, comb1)\n",
    "print('Mean Absolute Error for {} step: {}'.format(1 ,mae1))\n",
    "mape1 = mean_absolute_percentage_error(true1, comb1)\n",
    "print('Mean Absolute Percentage Error for {} step: {:.2f}%'.format(1, mape1))\n",
    "mase1 = mean_absolute_scaled_error(true1, comb1, 1)\n",
    "print('Mean Absolute Scaled Error for {} step: {:.2f}'.format(1, mase1))"
   ]
  },
  {
   "cell_type": "code",
   "execution_count": null,
   "metadata": {
    "id": "toS2Em10yV__"
   },
   "outputs": [],
   "source": [
    "combT1 = []\n",
    "for i in range(len(rf1)):\n",
    "    data = list([rf1[i], gbm1[i], ar1[i], arev_lasso1[i], lstm1[i], naive1[i]])\n",
    "\n",
    "    trim_percentage = 0.2\n",
    "    trimmed_mean = stats.trim_mean(data, trim_percentage)\n",
    "    combT1.append(trimmed_mean)"
   ]
  },
  {
   "cell_type": "code",
   "execution_count": null,
   "metadata": {
    "colab": {
     "base_uri": "https://localhost:8080/"
    },
    "id": "6w9HjgnV0QNZ",
    "outputId": "41ee3d9b-24bd-468a-8a01-e0a606532bfe"
   },
   "outputs": [],
   "source": [
    "mse1 = mean_squared_error(true1, combT1)\n",
    "print('Mean Squared Error for {} step: {}'.format(1 ,mse1))\n",
    "mae1 = mean_absolute_error(true1, combT1)\n",
    "print('Mean Absolute Error for {} step: {}'.format(1 ,mae1))\n",
    "mape1 = mean_absolute_percentage_error(true1, combT1)\n",
    "print('Mean Absolute Percentage Error for {} step: {:.2f}%'.format(1, mape1))\n",
    "mase1 = mean_absolute_scaled_error(true1, combT1, 1)\n",
    "print('Mean Absolute Scaled Error for {} step: {:.2f}'.format(1, mase1))"
   ]
  },
  {
   "cell_type": "code",
   "execution_count": null,
   "metadata": {
    "id": "WhFHWc8PSJ6M"
   },
   "outputs": [],
   "source": [
    "Wcomb1 = []\n",
    "for i in range(len(rf1)):\n",
    "    avg = (rf1[i] + gbm1[i] + ar1[i] + arev_lasso1[i] + naive1[i]) / 5\n",
    "    Wcomb1.append(avg)"
   ]
  },
  {
   "cell_type": "code",
   "execution_count": null,
   "metadata": {
    "colab": {
     "base_uri": "https://localhost:8080/"
    },
    "id": "oQcbKMUUSteX",
    "outputId": "e812e28d-2e5e-4463-a3be-c939f39e92cf"
   },
   "outputs": [],
   "source": [
    "mse1 = mean_squared_error(true1, Wcomb1)\n",
    "print('Mean Squared Error for {} step: {}'.format(1 ,mse1))\n",
    "mae1 = mean_absolute_error(true1, Wcomb1)\n",
    "print('Mean Absolute Error for {} step: {}'.format(1 ,mae1))\n",
    "mape1 = mean_absolute_percentage_error(true1, Wcomb1)\n",
    "print('Mean Absolute Percentage Error for {} step: {:.2f}%'.format(1, mape1))\n",
    "mase1 = mean_absolute_scaled_error(true1, Wcomb1, 1)\n",
    "print('Mean Absolute Scaled Error for {} step: {:.2f}'.format(1, mase1))"
   ]
  },
  {
   "cell_type": "code",
   "execution_count": null,
   "metadata": {
    "id": "aEHHTbigS137"
   },
   "outputs": [],
   "source": [
    "WcombT1 = []\n",
    "for i in range(len(rf1)):\n",
    "    data = list([rf1[i], gbm1[i], ar1[i], arev_lasso1[i], naive1[i]])\n",
    "\n",
    "    trim_percentage = 0.2\n",
    "    trimmed_mean = stats.trim_mean(data, trim_percentage)\n",
    "    WcombT1.append(trimmed_mean)"
   ]
  },
  {
   "cell_type": "code",
   "execution_count": null,
   "metadata": {
    "colab": {
     "base_uri": "https://localhost:8080/"
    },
    "id": "NM_36vx6TwuI",
    "outputId": "d14b2fa5-07e4-42a0-ae2e-73953f29fe0f"
   },
   "outputs": [],
   "source": [
    "mse1 = mean_squared_error(true1, WcombT1)\n",
    "print('Mean Squared Error for {} step: {}'.format(1 ,mse1))\n",
    "mae1 = mean_absolute_error(true1, WcombT1)\n",
    "print('Mean Absolute Error for {} step: {}'.format(1 ,mae1))\n",
    "mape1 = mean_absolute_percentage_error(true1, WcombT1)\n",
    "print('Mean Absolute Percentage Error for {} step: {:.2f}%'.format(1, mape1))\n",
    "mase1 = mean_absolute_scaled_error(true1, WcombT1, 1)\n",
    "print('Mean Absolute Scaled Error for {} step: {:.2f}'.format(1, mase1))"
   ]
  },
  {
   "cell_type": "markdown",
   "metadata": {
    "id": "vFw8rjZ10Jht"
   },
   "source": [
    "##### step: 2, step: 3, ......, step: 8 ARE same as step: 1"
   ]
  },
  {
   "cell_type": "markdown",
   "metadata": {
    "id": "4l6K7RvodLS8"
   },
   "source": [
    "#### Visualization of forecasts generated using CombT against observations in the full forecasting dataset with the line of equality"
   ]
  },
  {
   "cell_type": "code",
   "execution_count": null,
   "metadata": {
    "id": "N6PYQ450eyiT"
   },
   "outputs": [],
   "source": [
    "# scale: 0.1-2.9\n",
    "def scale_values_to_range(values, original_min, original_max, min_val=0.1, max_val=2.9):\n",
    "    original_range = original_max - original_min\n",
    "\n",
    "    scaled_values = [(value - original_min) / original_range * (max_val - min_val) + min_val for value in values]\n",
    "    return scaled_values\n",
    "\n",
    "for i in range(1, 9):\n",
    "    true_min = min(eval(f\"true{i}\"))\n",
    "    true_max = max(eval(f\"true{i}\"))\n",
    "\n",
    "    exec(f\"true{i}_scale = scale_values_to_range(true{i}, true_min, true_max)\")\n",
    "    exec(f\"combT{i}_scale = scale_values_to_range(combT{i}, true_min, true_max)\")\n"
   ]
  },
  {
   "cell_type": "code",
   "execution_count": null,
   "metadata": {
    "colab": {
     "base_uri": "https://localhost:8080/"
    },
    "id": "SDNZRUK9vXdb",
    "outputId": "813fd1a5-e0bc-4828-cf86-55e81d53dfcc"
   },
   "outputs": [],
   "source": [
    "# Check if the size of the value exceeds the range of 0-3\n",
    "for i in range(1, 9):\n",
    "    true_scale = globals()[f\"true{i}_scale\"]\n",
    "    combT_scale = globals()[f\"combT{i}_scale\"]\n",
    "    print(f\"true{i}_scale: min={min(true_scale)}, max={max(true_scale)}\")\n",
    "    print(f\"comb{i}_scale: min={min(combT_scale)}, max={max(combT_scale)}\")"
   ]
  },
  {
   "cell_type": "code",
   "execution_count": null,
   "metadata": {
    "colab": {
     "base_uri": "https://localhost:8080/",
     "height": 607
    },
    "id": "hiOY2vr3kCUg",
    "outputId": "eeb9bc1a-e584-4c71-d954-8743da622a13"
   },
   "outputs": [],
   "source": [
    "labs = ['A', 'B', 'C', 'D', 'E', 'F', 'G', 'H']\n",
    "fig, axs = plt.subplots(nrows=2, ncols=4, figsize=(12, 6))\n",
    "\n",
    "for i in range(1, 9):\n",
    "    row = (i - 1) // 4\n",
    "    col = (i - 1) % 4\n",
    "\n",
    "    # Get the values for the current pair of variables\n",
    "    true_scale = globals()[f\"true{i}_scale\"]\n",
    "    combT_scale = globals()[f\"combT{i}_scale\"]\n",
    "\n",
    "    axs[row, col].scatter(true_scale, combT_scale, marker='o', s=5, alpha=1, color='darkblue')\n",
    "    axs[row, col].plot([0, 3], [0, 3], linewidth=0.6, alpha=0.8, color='grey')\n",
    "    # Set the x-axis and y-axis limits\n",
    "    axs[row, col].set_xlim(0, 3)\n",
    "    axs[row, col].set_ylim(0, 3)\n",
    "    axs[row, col].set_xlabel('Observations', fontsize=16)\n",
    "    axs[row, col].set_ylabel(f'Forecasts Horizon {i}', fontsize=16)\n",
    "\n",
    "    # Set the x-axis and y-axis ticks for the current subplot\n",
    "    x_ticks = range(0, 4)\n",
    "    y_ticks = range(0, 4)\n",
    "    axs[row, col].set_xticks(x_ticks[1:-1])\n",
    "    axs[row, col].set_yticks(y_ticks[1:-1])\n",
    "\n",
    "    axs[row, col].tick_params(axis='both', which='major', labelsize=18)\n",
    "    axs[row, col].text(0.1, 2.7, \"overpredict\", fontsize=14)\n",
    "    axs[row, col].text(1.3, 0.1, \"underpredict\", fontsize=14)\n",
    "\n",
    "    axs[row, col].set_title(f\"{labs[i-1]}\", fontsize=16)\n",
    "\n",
    "plt.tight_layout() # Adjust the spacing between subplots\n",
    "\n",
    "plt.savefig('equality.tif', format='tif', dpi=400)\n",
    "plt.show()"
   ]
  },
  {
   "cell_type": "markdown",
   "metadata": {
    "id": "ppJijHZtBnhn"
   },
   "source": [
    "#### draw mape assessment plot"
   ]
  },
  {
   "cell_type": "code",
   "execution_count": null,
   "metadata": {
    "colab": {
     "base_uri": "https://localhost:8080/",
     "height": 331
    },
    "id": "eji-8aK7Ti7c",
    "outputId": "d63337d6-2cd4-4fa6-99b6-891768bcc37c"
   },
   "outputs": [],
   "source": [
    "df = pd.read_excel('forecast_assessment.xlsx', index_col='Forecast Horizon (Weeks Ahead)', sheet_name = 'mape')"
   ]
  },
  {
   "cell_type": "code",
   "execution_count": null,
   "metadata": {
    "colab": {
     "base_uri": "https://localhost:8080/",
     "height": 816
    },
    "id": "QhAXmbwH9cCh",
    "outputId": "7ee10e3f-83bc-4d63-f21f-63c79c8cb843"
   },
   "outputs": [],
   "source": [
    "fig, axarr = plt.subplots(2, 3, figsize=(24, 14))\n",
    "ax = axarr[0, 0]\n",
    "\n",
    "ax.plot(df.index, df['Naive'], label='Naive', linestyle='-', marker='v', linewidth=1.2, alpha=1, color='purple', markersize=6)\n",
    "ax.plot(df.index, df['AR'], label='AR', linestyle='-', marker='^', linewidth=1.2, alpha=1, color='red', markersize=6)\n",
    "ax.plot(df.index, df['AREV(LASSO)'], label='AREV(LASSO)', linestyle='-', marker='s', linewidth=1.2, alpha=1, color='green', markersize=6)\n",
    "ax.plot(df.index, df['LSTM-CNN'], label='LSTM-CNN', linestyle='-', marker='o', linewidth=1.2, alpha=1, color='brown', markersize=5)\n",
    "ax.plot(df.index, df['RF'], label='RF', linestyle='-', marker='d', linewidth=1.2, alpha=1, color='orange', markersize=6)\n",
    "ax.plot(df.index, df['GBM'], label='GBM', linestyle='-', marker='.', linewidth=1.2, alpha=1, color='blue', markersize=8)\n",
    "ax.plot(df.index, df['CombM'], label='CombM', linestyle='-', marker='H', linewidth=1.2, alpha=1, color='c', markersize=6)\n",
    "ax.plot(df.index, df['CombT'], label='CombT', linestyle='-', marker='*', linewidth=1.2, alpha=1, color='black', markersize=8)\n",
    "\n",
    "ax.set_xlabel('Forecast Horizon (Weeks Ahead)', fontsize=19)\n",
    "ax.set_ylabel('Mean Absolute Percentage Error (%)', fontsize=19)\n",
    "ax.legend(loc='upper left', frameon=False, fontsize=18)\n",
    "ax.set_title(\"A\", fontsize = 16)\n",
    "ax.tick_params(axis='both', labelsize=18)\n"
   ]
  },
  {
   "cell_type": "code",
   "execution_count": null,
   "metadata": {
    "id": "XvGfnsh-cCLo"
   },
   "outputs": [],
   "source": [
    "ax = axarr[1, 0]\n",
    "\n",
    "ax.plot(df.index, df['CombM'], label='CombM', linestyle='-', marker='H', linewidth=1.2, alpha=1, color='c', markersize=6)\n",
    "ax.plot(df.index, df['CombT'], label='CombT', linestyle='-', marker='*', linewidth=1.2, alpha=1, color='black', markersize=8)\n",
    "ax.plot(df.index, df['CombM(except L-C)'], label='CombM(except L-C)', linestyle='-', marker='x', linewidth=1.2, alpha=1, color='red', markersize=6)\n",
    "ax.plot(df.index, df['CombT(except L-C)'], label='CombT(except L-C)', linestyle='-', marker='p', linewidth=1.2, alpha=1, color='green', markersize=6)\n",
    "\n",
    "ax.set_xlabel('Forecast Horizon (Weeks Ahead)', fontsize=19)\n",
    "ax.set_ylabel('Mean Absolute Percentage Error (%)', fontsize=19)\n",
    "ax.legend(loc='upper left', frameon=False, fontsize=18)\n",
    "ax.set_title(\"D\", fontsize=16)\n",
    "ax.tick_params(axis='both', labelsize=18)"
   ]
  },
  {
   "cell_type": "markdown",
   "metadata": {
    "id": "dk90TDu9EXSF"
   },
   "source": [
    "#### draw mase plot"
   ]
  },
  {
   "cell_type": "code",
   "execution_count": null,
   "metadata": {
    "colab": {
     "base_uri": "https://localhost:8080/",
     "height": 331
    },
    "id": "1czzn9RJ2_X4",
    "outputId": "fc1c25f8-fbef-41b3-c9fb-75621f70bb4a",
    "scrolled": false
   },
   "outputs": [],
   "source": [
    "df = pd.read_excel('forecast_assessment.xlsx', index_col='Forecast Horizon (Weeks Ahead)', sheet_name = 'mase')"
   ]
  },
  {
   "cell_type": "code",
   "execution_count": null,
   "metadata": {
    "id": "jMAnK4_X3E79"
   },
   "outputs": [],
   "source": [
    "ax = axarr[0, 1]\n",
    "\n",
    "ax.plot(df.index, df['Naive'], label='Naive', linestyle='-', marker='v', linewidth=1.2, alpha=1, color='purple', markersize=6)\n",
    "ax.plot(df.index, df['AR'], label='AR', linestyle='-', marker='^', linewidth=1.2, alpha=1, color='red', markersize=6)\n",
    "ax.plot(df.index, df['AREV(LASSO)'], label='AREV(LASSO)', linestyle='-', marker='s', linewidth=1.2, alpha=1, color='green', markersize=6)\n",
    "ax.plot(df.index, df['LSTM-CNN'], label='LSTM-CNN', linestyle='-', marker='o', linewidth=1.2, alpha=1, color='brown', markersize=5)\n",
    "ax.plot(df.index, df['RF'], label='RF', linestyle='-', marker='d', linewidth=1.2, alpha=1, color='orange', markersize=6)\n",
    "ax.plot(df.index, df['GBM'], label='GBM', linestyle='-', marker='.', linewidth=1.2, alpha=1, color='blue', markersize=8)\n",
    "ax.plot(df.index, df['CombM'], label='CombM', linestyle='-', marker='H', linewidth=1.2, alpha=1, color='c', markersize=6)\n",
    "ax.plot(df.index, df['CombT'], label='CombT', linestyle='-', marker='*', linewidth=1.2, alpha=1, color='black', markersize=8)\n",
    "\n",
    "ax.set_xlabel('Forecast Horizon (Weeks Ahead)', fontsize=19)\n",
    "ax.set_ylabel('Mean Absolute Scaled Error', fontsize=19)\n",
    "# plt.legend(loc='upper left', frameon=False, fontsize=15)\n",
    "ax.set_title(\"B\", fontsize=16)\n",
    "ax.tick_params(axis='both', labelsize=18)"
   ]
  },
  {
   "cell_type": "code",
   "execution_count": null,
   "metadata": {
    "id": "AO0a9Q0aldd5"
   },
   "outputs": [],
   "source": [
    "ax = axarr[1, 1]\n",
    "\n",
    "ax.plot(df.index, df['CombM'], label='CombM', linestyle='-', marker='H', linewidth=1.2, alpha=1, color='c', markersize=6)\n",
    "ax.plot(df.index, df['CombT'], label='CombT', linestyle='-', marker='*', linewidth=1.2, alpha=1, color='black', markersize=8)\n",
    "ax.plot(df.index, df['CombM(except L-C)'], label='CombM(except L-C)', linestyle='-', marker='x', linewidth=1.2, alpha=1, color='red', markersize=6)\n",
    "ax.plot(df.index, df['CombT(except L-C)'], label='CombT(except L-C)', linestyle='-', marker='p', linewidth=1.2, alpha=1, color='green', markersize=6)\n",
    "\n",
    "ax.set_xlabel('Forecast Horizon (Weeks Ahead)', fontsize=19)\n",
    "ax.set_ylabel('Mean Absolute Scaled Error', fontsize=19)\n",
    "# plt.legend(loc='upper left', frameon=False, fontsize=15)\n",
    "ax.set_title(\"E\", fontsize=16)\n",
    "ax.tick_params(axis='both', labelsize=18)"
   ]
  },
  {
   "cell_type": "markdown",
   "metadata": {
    "id": "VF5Oe9Uq5pkA"
   },
   "source": [
    "#### draw mae plot"
   ]
  },
  {
   "cell_type": "code",
   "execution_count": null,
   "metadata": {
    "colab": {
     "base_uri": "https://localhost:8080/",
     "height": 331
    },
    "id": "RPY_JlFh3QVl",
    "outputId": "f4062745-699c-40a0-893c-87ac0bf5cdd3"
   },
   "outputs": [],
   "source": [
    "df = pd.read_excel('forecast_assessment.xlsx', index_col='Forecast Horizon (Weeks Ahead)', sheet_name = 'mae')\n",
    "df"
   ]
  },
  {
   "cell_type": "code",
   "execution_count": null,
   "metadata": {
    "id": "5v4W01VN4E64"
   },
   "outputs": [],
   "source": [
    "ax = axarr[0, 2]\n",
    "\n",
    "ax.plot(df.index, df['Naive'], label='Naive', linestyle='-', marker='v', linewidth=1.2, alpha=1, color='purple', markersize=6)\n",
    "ax.plot(df.index, df['AR'], label='AR', linestyle='-', marker='^', linewidth=1.2, alpha=1, color='red', markersize=6)\n",
    "ax.plot(df.index, df['AREV(LASSO)'], label='AREV(LASSO)', linestyle='-', marker='s', linewidth=1.2, alpha=1, color='green', markersize=6)\n",
    "ax.plot(df.index, df['LSTM-CNN'], label='LSTM-CNN', linestyle='-', marker='o', linewidth=1.2, alpha=1, color='brown', markersize=5)\n",
    "ax.plot(df.index, df['RF'], label='RF', linestyle='-', marker='d', linewidth=1.2, alpha=1, color='orange', markersize=6)\n",
    "ax.plot(df.index, df['GBM'], label='GBM', linestyle='-', marker='.', linewidth=1.2, alpha=1, color='blue', markersize=8)\n",
    "ax.plot(df.index, df['CombM'], label='CombM', linestyle='-', marker='H', linewidth=1.2, alpha=1, color='c', markersize=6)\n",
    "ax.plot(df.index, df['CombT'], label='CombT', linestyle='-', marker='*', linewidth=1.2, alpha=1, color='black', markersize=8)\n",
    "\n",
    "ax.set_xlabel('Forecast Horizon (Weeks Ahead)', fontsize=19)\n",
    "ax.set_ylabel('Mean Absolute Forecast Error', fontsize=19)\n",
    "# plt.legend(loc='upper left', frameon=False, fontsize=15)\n",
    "ax.set_title(\"C\", fontsize=16)\n",
    "ax.tick_params(axis='both', labelsize=18)"
   ]
  },
  {
   "cell_type": "code",
   "execution_count": null,
   "metadata": {
    "id": "lCfKK8h7mppy"
   },
   "outputs": [],
   "source": [
    "ax = axarr[1, 2]\n",
    "\n",
    "ax.plot(df.index, df['CombM'], label='CombM', linestyle='-', marker='H', linewidth=1.2, alpha=1, color='c', markersize=6)\n",
    "ax.plot(df.index, df['CombT'], label='CombT', linestyle='-', marker='*', linewidth=1.2, alpha=1, color='black', markersize=8)\n",
    "ax.plot(df.index, df['CombM(except L-C)'], label='CombM(except L-C)', linestyle='-', marker='x', linewidth=1.2, alpha=1, color='red', markersize=6)\n",
    "ax.plot(df.index, df['CombT(except L-C)'], label='CombT(except L-C)', linestyle='-', marker='p', linewidth=1.2, alpha=1, color='green', markersize=6)\n",
    "\n",
    "ax.set_xlabel('Forecast Horizon (Weeks Ahead)', fontsize=19)\n",
    "ax.set_ylabel('Mean Absolute Forecast Error', fontsize=19)\n",
    "# plt.legend(loc='upper left', frameon=False, fontsize=15)\n",
    "ax.set_title(\"F\", fontsize=16)\n",
    "ax.tick_params(axis='both', labelsize=18)\n",
    "fig.savefig('all_metrics.tif', format='tif', dpi=400)\n",
    "plt.show()"
   ]
  },
  {
   "cell_type": "markdown",
   "metadata": {
    "id": "MtAgUU7vDdGM"
   },
   "source": [
    "### DM test"
   ]
  },
  {
   "cell_type": "code",
   "execution_count": null,
   "metadata": {
    "id": "4V2_94KBFB7F"
   },
   "outputs": [],
   "source": [
    "def dm_test(actual_lst, pred1_lst, pred2_lst):\n",
    "\n",
    "    # Import libraries\n",
    "    from scipy.stats import t\n",
    "    import collections\n",
    "    import pandas as pd\n",
    "    import numpy as np\n",
    "\n",
    "    if len(actual_lst) != len(pred1_lst) or len(pred1_lst) != len(pred2_lst):\n",
    "        raise ValueError(\"Lengths of actual_lst, pred1_lst, and pred2_lst do not match.\")\n",
    "\n",
    "    # Convert every value of the lists into real values\n",
    "    actual_lst = pd.Series(actual_lst).apply(lambda x: float(x)).tolist()\n",
    "    pred1_lst = pd.Series(pred1_lst).apply(lambda x: float(x)).tolist()\n",
    "    pred2_lst = pd.Series(pred2_lst).apply(lambda x: float(x)).tolist()\n",
    "\n",
    "    # Calculate absolute percentage errors for both models\n",
    "    e1_lst = [abs((actual - p1) / actual) for actual, p1 in zip(actual_lst, pred1_lst)]\n",
    "    e2_lst = [abs((actual - p2) / actual) for actual, p2 in zip(actual_lst, pred2_lst)]\n",
    "\n",
    "    # Calculate the differences between absolute percentage errors\n",
    "    d_lst = [e1 - e2 for e1, e2 in zip(e1_lst, e2_lst)]\n",
    "\n",
    "    mean_d = pd.Series(d_lst).mean()\n",
    "\n",
    "    # Compute autocovariance\n",
    "    def autocovariance(Xi, N, k, Xs):\n",
    "        autoCov = sum([(Xi[i + k] - Xs) * (Xi[i] - Xs) for i in range(0, N - k)])\n",
    "        return (1 / N) * autoCov\n",
    "\n",
    "    T = float(len(d_lst))\n",
    "    gamma = [autocovariance(d_lst, len(d_lst), lag, mean_d) for lag in range(0, 2)]\n",
    "\n",
    "    # Calculate DM test statistic and apply Harvey adjustment\n",
    "    V_d = (gamma[0] + 2 * gamma[1]) / T\n",
    "    DM_stat = V_d ** (-0.5) * mean_d\n",
    "    harvey_adj = ((T + 1 - 2 + 1 / T) / T) ** (0.5)\n",
    "    DM_stat = harvey_adj * DM_stat\n",
    "\n",
    "    # p-value\n",
    "    p_value = 2 * t.cdf(-abs(DM_stat), df=T - 1)\n",
    "\n",
    "    dm_return = collections.namedtuple('dm_return', 'DM p_value')\n",
    "    return dm_return(DM=DM_stat, p_value=p_value)\n"
   ]
  },
  {
   "cell_type": "code",
   "execution_count": null,
   "metadata": {
    "id": "BhTC9naS2U-c"
   },
   "outputs": [],
   "source": [
    "import itertools\n",
    "\n",
    "# Example data for each step (i) and model\n",
    "true = [true1, true2, true3, true4, true5, true6, true7, true8]\n",
    "rf = [rf1, rf2, rf3, rf4, rf5, rf6, rf7, rf8]\n",
    "gbm = [gbm1, gbm2, gbm3, gbm4, gbm5, gbm6, gbm7, gbm8]\n",
    "ar = [ar1, ar2, ar3, ar4, ar5, ar6, ar7, ar8]\n",
    "arev_lasso = [arev_lasso1, arev_lasso2, arev_lasso3, arev_lasso4, arev_lasso5, arev_lasso6, arev_lasso7, arev_lasso8]\n",
    "comb = [comb1, comb2, comb3, comb4, comb5, comb6, comb7, comb8]\n",
    "combT = [combT1, combT2, combT3, combT4, combT5, combT6, combT7, combT8]\n",
    "lstm = [lstm1, lstm2, lstm3, lstm4, lstm5, lstm6, lstm7, lstm8]\n",
    "naive = [naive1, naive2, naive3, naive4, naive5, naive6, naive7, naive8]\n",
    "\n",
    "\n",
    "storeAssessments = []\n",
    "for i in range(len(true)):\n",
    "    step_results = []\n",
    "    model_predictions = [naive[i], ar[i], arev_lasso[i], lstm[i], rf[i], gbm[i], comb[i], combT[i]]\n",
    "\n",
    "    # Iterate through all possible pairs of models without repetition\n",
    "    for model1, model2 in itertools.combinations(enumerate(model_predictions), 2):\n",
    "        index1, pred1_lst = model1\n",
    "        index2, pred2_lst = model2\n",
    "        result = dm_test(true[i], pred1_lst, pred2_lst)\n",
    "\n",
    "        step_results.append(((index1, index2), result[1]))\n",
    "    storeAssessments.append(step_results)"
   ]
  },
  {
   "cell_type": "code",
   "execution_count": null,
   "metadata": {
    "colab": {
     "base_uri": "https://localhost:8080/"
    },
    "id": "_ajaU9OB4Qai",
    "outputId": "148b8c1f-df3b-4e33-b32c-787536707d8a"
   },
   "outputs": [],
   "source": [
    "storeAssessments[1]"
   ]
  },
  {
   "cell_type": "code",
   "execution_count": null,
   "metadata": {
    "colab": {
     "base_uri": "https://localhost:8080/",
     "height": 692
    },
    "id": "dggxjzo6bsbs",
    "outputId": "f1071924-0bdc-4a04-fbc0-f23c291cb85e"
   },
   "outputs": [],
   "source": [
    "import numpy as np\n",
    "import matplotlib.pyplot as plt\n",
    "import matplotlib.colors as mcolors\n",
    "\n",
    "labels = ['Naive', 'AR', 'LASSO', 'L-C', 'RF', 'GBM', 'CombM', 'CombT']\n",
    "labs = ['A', 'B', 'C', 'D', 'E', 'F', 'G', 'H']\n",
    "\n",
    "n_rows = 2\n",
    "n_cols = 4\n",
    "fig, axes = plt.subplots(n_rows, n_cols, figsize=(19, 9))\n",
    "fig.subplots_adjust(hspace=0.3)\n",
    "\n",
    "\n",
    "for i, step_results in enumerate(storeAssessments):\n",
    "    # Initialize a square matrix of -1 with the number of models as dimensions\n",
    "    heatmap_data = np.full((len(model_predictions), len(model_predictions)), -1)\n",
    "\n",
    "    # Fill the heatmap_data matrix\n",
    "    for (index1, index2), p_value in step_results:\n",
    "        if p_value > 0.05:\n",
    "            p_value = 1\n",
    "        else:\n",
    "            p_value = 0\n",
    "        heatmap_data[index1, index2] = p_value\n",
    "\n",
    "    # Create a custom colormap: red (0), black (1), gray (-1)\n",
    "    custom_cmap = mcolors.ListedColormap(['gainsboro', 'mediumorchid', 'black'])\n",
    "\n",
    "    # Plot the heatmap\n",
    "    ax = axes[i // n_cols, i % n_cols]\n",
    "    ax.imshow(heatmap_data, cmap=custom_cmap, vmin=-1, vmax=1)\n",
    "    ax.set_title(f\"{labs[i]}: Horizon {i+1}\", fontsize=16, weight='bold')\n",
    "\n",
    "    ax.set_xticks(np.arange(0.5, len(model_predictions)-1, 1), minor=True)\n",
    "    ax.set_yticks(np.arange(0.5, len(model_predictions)-1, 1), minor=True)\n",
    "    ax.grid(which='minor', color='lightgrey', linestyle='-', linewidth=1)\n",
    "    \n",
    "    # Remove the tick lines from the x- and y-axes\n",
    "    ax.tick_params(axis='both', length=0)\n",
    "    ax.set_xticks(range(len(labels)))\n",
    "    ax.set_yticks(range(len(labels)))\n",
    "    ax.set_xticklabels(labels, fontsize=9, rotation=-90)\n",
    "    ax.set_yticklabels(labels, fontsize=9)\n",
    "\n",
    "    ax.tick_params(axis='both', which='major', labelsize=12)\n",
    "\n",
    "## Add a colorbar\n",
    "cax = fig.add_axes([0.92, 0.145, 0.01, 0.3])  # Adjust the position and size of colorbar\n",
    "norm = mcolors.BoundaryNorm([0, 0.5, 1], len(['mediumorchid', 'black']))  # Normalization\n",
    "cb = plt.colorbar(plt.cm.ScalarMappable(cmap=mcolors.ListedColormap(['mediumorchid', 'black']), norm=norm),\n",
    "                  cax=cax, ticks=[0.25, 0.75], boundaries=[0, 0.5, 1], spacing='proportional')\n",
    "cb.set_ticklabels(['NE', 'E'])  \n",
    "cb.ax.tick_params(size=0)  # Remove the tick lines from the colorbar\n",
    "plt.savefig('dm.tif', format='tif', dpi=400)\n",
    "plt.show()\n"
   ]
  },
  {
   "cell_type": "markdown",
   "metadata": {
    "id": "8PeZt_pBv2Vw"
   },
   "source": [
    "#### plot the forecasted results from the forecast combination"
   ]
  },
  {
   "cell_type": "code",
   "execution_count": null,
   "metadata": {
    "id": "9r23alEodes5"
   },
   "outputs": [],
   "source": [
    "data = pd.read_csv('variables.csv')\n",
    "data = data.drop(columns=['Epic_week'])"
   ]
  },
  {
   "cell_type": "code",
   "execution_count": null,
   "metadata": {
    "colab": {
     "base_uri": "https://localhost:8080/"
    },
    "id": "EQwzbCzywhbF",
    "outputId": "bdc4f9ab-da97-484c-8c91-a76dfea8e2ff"
   },
   "outputs": [],
   "source": [
    "n_lag = 4\n",
    "n_steps = 8\n",
    "\n",
    "columns = list(data.columns)\n",
    "\n",
    "for col in columns:\n",
    "    for i in range(1, n_lag + 1):\n",
    "        data[f\"{col}_lag_{i}\"] = data[col].shift(i)\n",
    "\n",
    "data = data.dropna()\n",
    "# Only keep the target column when there is no lag\n",
    "data = data.drop(data.columns[1:50], axis=1)"
   ]
  },
  {
   "cell_type": "code",
   "execution_count": null,
   "metadata": {
    "id": "zHhOvkY_w7bC"
   },
   "outputs": [],
   "source": [
    "y = data['Infectious and Parasitic Diseases'].shift(-n_steps+1)\n",
    "y = y.dropna()\n",
    "if n_steps != 1:\n",
    "  data = data.iloc[:-n_steps+1, :]\n",
    "\n",
    "X = data.drop('Infectious and Parasitic Diseases', axis=1)"
   ]
  },
  {
   "cell_type": "code",
   "execution_count": null,
   "metadata": {
    "id": "hXDzw0xExVjF"
   },
   "outputs": [],
   "source": [
    "X = X.reset_index(drop=True)\n",
    "y = y.reset_index(drop=True)\n",
    "\n",
    "X = np.array(X)\n",
    "y = np.array(y)"
   ]
  },
  {
   "cell_type": "code",
   "execution_count": null,
   "metadata": {
    "id": "CpSCwTWkxc6L"
   },
   "outputs": [],
   "source": [
    "train_size = int(len(X) * 0.7)\n",
    "test_ind = range(train_size, len(X))\n",
    "y_pred_store = np.array([None] * len(X))"
   ]
  },
  {
   "cell_type": "code",
   "execution_count": null,
   "metadata": {
    "id": "M9_cGw5Uy2Qt"
   },
   "outputs": [],
   "source": [
    "i = 0\n",
    "for forecast_ind in test_ind:\n",
    "  y_pred_store[forecast_ind] = combT8[i]\n",
    "  i = i + 1"
   ]
  },
  {
   "cell_type": "code",
   "execution_count": null,
   "metadata": {
    "id": "uD6R3Tf-bA-B"
   },
   "outputs": [],
   "source": [
    "# 8 forecasting window. different size of samples.\n",
    "# 1 week ahead: [0, 48, 100, 152, 204, 256, 309, 361, 413, 465, 517]\n",
    "# 2 week ahead: [0, 47, 99, 151, 203, 255, 308, 360, 412, 464, 516]\n",
    "# 3 week ahead: [0, 46, 98, 150, 202, 254, 307, 359, 411, 463, 515]\n",
    "# 4 week ahead: [0, 45, 97, 149, 201, 253, 306, 358, 410, 462, 514]\n",
    "# 5 week ahead: [0, 44, 96, 148, 200, 252, 305, 357, 409, 461, 513]\n",
    "# 6 week ahead: [0, 43, 95, 147, 199, 251, 304, 356, 408, 460, 512]\n",
    "# 7 week ahead: [0, 42, 94, 146, 198, 250, 303, 355, 407, 459, 511]\n",
    "# 8 week ahead: [0, 41, 93, 145, 197, 249, 302, 354, 406, 458, 510]"
   ]
  },
  {
   "cell_type": "code",
   "execution_count": null,
   "metadata": {
    "colab": {
     "base_uri": "https://localhost:8080/",
     "height": 579
    },
    "id": "4IgYwqo40vNc",
    "outputId": "4aa5e025-2107-4d87-de2b-005a129874a2"
   },
   "outputs": [],
   "source": [
    "plt.figure(figsize=(12, 6))\n",
    "\n",
    "plt.xlim(-30, len(X)+40)\n",
    "\n",
    "first_test_index = test_ind[0] \n",
    "plt.axvspan(-30, first_test_index, facecolor='lightblue', alpha=0.4)\n",
    "\n",
    "tick_interval = 52\n",
    "# origin data is [0, 52, 104, 156, 208, 260, 313, 365, 417, 469, 521]\n",
    "tick_locations = np.array([0, 41, 93, 145, 197, 249, 302, 354, 406, 458, 510])\n",
    "tick_label_locations = tick_locations[:-1] + tick_interval / 2\n",
    "tick_labels = [f'{year:02d}' for year in range(9, 19)]\n",
    "\n",
    "plt.plot(y, label='Observed', linestyle='-', linewidth=0.6, alpha=1, color='black')\n",
    "plt.scatter(range(len(y_pred_store)), y_pred_store, label=F'Forecast combination (trimmed mean) {n_steps} week ahead forecast', marker='o', s=10, alpha=1, color='darkorchid')\n",
    "\n",
    "plt.title('C')\n",
    "plt.xlabel('Year', fontsize=18)\n",
    "plt.ylabel('IPDs ED Attendances', fontsize=18)\n",
    "\n",
    "plt.xticks(tick_locations)\n",
    "plt.gca().set_xticklabels([])\n",
    "plt.gca().set_xticks(tick_label_locations, minor=True)\n",
    "plt.gca().set_xticklabels(tick_labels, minor=True)\n",
    "plt.gca().tick_params(axis='x', which='minor', length=0, labelsize=18)\n",
    "plt.gca().tick_params(axis='y', which='major', length=0, labelsize=18)\n",
    "\n",
    "plt.legend(loc='upper left', frameon=False, fontsize=14)\n",
    "plt.savefig('CombT8.tif', format='tif', dpi=400)\n",
    "plt.show()\n"
   ]
  },
  {
   "cell_type": "code",
   "execution_count": null,
   "metadata": {
    "id": "pbRIP3_R1U1y"
   },
   "outputs": [],
   "source": []
  }
 ],
 "metadata": {
  "colab": {
   "machine_shape": "hm",
   "provenance": []
  },
  "kernelspec": {
   "display_name": "Python 3 (ipykernel)",
   "language": "python",
   "name": "python3"
  },
  "language_info": {
   "codemirror_mode": {
    "name": "ipython",
    "version": 3
   },
   "file_extension": ".py",
   "mimetype": "text/x-python",
   "name": "python",
   "nbconvert_exporter": "python",
   "pygments_lexer": "ipython3",
   "version": "3.11.4"
  }
 },
 "nbformat": 4,
 "nbformat_minor": 1
}
